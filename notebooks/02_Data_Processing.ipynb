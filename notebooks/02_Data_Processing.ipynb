{
 "cells": [
  {
   "cell_type": "code",
   "execution_count": 24,
   "id": "d71968da",
   "metadata": {},
   "outputs": [],
   "source": [
    "import sys\n",
    "sys.path.append('..')  # Add parent directory to path\n",
    "from src.data_loader import ABCDDataLoader\n",
    "from src.preprocess import ABCDPreprocessor\n",
    "import pandas as pd\n",
    "import numpy as np\n",
    "from sklearn.model_selection import train_test_split\n",
    "import matplotlib.pyplot as plt\n",
    "from collections import Counter\n",
    "import os"
   ]
  },
  {
   "cell_type": "markdown",
   "id": "5129f5d6",
   "metadata": {},
   "source": [
    "# Create processed data directory"
   ]
  },
  {
   "cell_type": "code",
   "execution_count": 26,
   "id": "97c5b77d",
   "metadata": {},
   "outputs": [],
   "source": [
    "os.makedirs('../data/processed', exist_ok=True)"
   ]
  },
  {
   "cell_type": "markdown",
   "id": "a45542b9",
   "metadata": {},
   "source": [
    "# Initialize data loader"
   ]
  },
  {
   "cell_type": "code",
   "execution_count": 27,
   "id": "ffb0952b",
   "metadata": {},
   "outputs": [
    {
     "name": "stdout",
     "output_type": "stream",
     "text": [
      "Initializing data loader...\n"
     ]
    }
   ],
   "source": [
    "print(\"Initializing data loader...\")\n",
    "loader = ABCDDataLoader('../data')\n",
    "loader.load_all()"
   ]
  },
  {
   "cell_type": "markdown",
   "id": "224810d4",
   "metadata": {},
   "source": [
    "# Test the data loading"
   ]
  },
  {
   "cell_type": "code",
   "execution_count": 7,
   "id": "79e31999",
   "metadata": {},
   "outputs": [
    {
     "name": "stdout",
     "output_type": "stream",
     "text": [
      "\n",
      "Checking loaded data:\n",
      "Number of splits: 3\n",
      "Number of dialogues in train: 8034\n",
      "Number of dialogues in dev: 1004\n",
      "Number of dialogues in test: 1004\n"
     ]
    }
   ],
   "source": [
    "print(\"\\nChecking loaded data:\")\n",
    "print(f\"Number of splits: {len(loader.dialogs)}\")\n",
    "for split, dialogues in loader.dialogs.items():\n",
    "    print(f\"Number of dialogues in {split}: {len(dialogues)}\")"
   ]
  },
  {
   "cell_type": "markdown",
   "id": "f352f36c",
   "metadata": {},
   "source": [
    "# Extract intent classification data"
   ]
  },
  {
   "cell_type": "code",
   "execution_count": 28,
   "id": "29df92a0",
   "metadata": {},
   "outputs": [
    {
     "name": "stdout",
     "output_type": "stream",
     "text": [
      "\n",
      "Extracting intent classification data...\n",
      "Total number of examples: 10042\n",
      "\n",
      "Sample of intent classification data:\n",
      "\n",
      "Text: Hi! I need to return an item, can you help me with that?...\n",
      "Intent: product_defect\n",
      "\n",
      "Text: just wanted to check on the status of a refund...\n",
      "Intent: product_defect\n",
      "\n",
      "Text: HEY HO!...\n",
      "Intent: storewide_query\n"
     ]
    }
   ],
   "source": [
    "print(\"\\nExtracting intent classification data...\")\n",
    "intent_data = loader.get_intent_classification_data()\n",
    "print(f\"Total number of examples: {len(intent_data)}\")\n",
    "print(\"\\nSample of intent classification data:\")\n",
    "for text, intent in intent_data[:3]:\n",
    "    print(f\"\\nText: {text[:100]}...\")\n",
    "    print(f\"Intent: {intent}\")"
   ]
  },
  {
   "cell_type": "markdown",
   "id": "49aebcaa",
   "metadata": {},
   "source": [
    "# Extract action tracking data"
   ]
  },
  {
   "cell_type": "code",
   "execution_count": 9,
   "id": "76f2922f",
   "metadata": {},
   "outputs": [
    {
     "name": "stdout",
     "output_type": "stream",
     "text": [
      "\n",
      "Extracting action tracking data...\n",
      "Total number of examples: 95129\n",
      "\n",
      "Sample of action tracking data:\n",
      "\n",
      "Context:\n",
      "Next action: Hi!\n",
      "Flow: product_defect\n",
      "\n",
      "Context:\n",
      "agent: Hi!...\n",
      "Next action: How can I help you?\n",
      "Flow: product_defect\n",
      "\n",
      "Context:\n",
      "agent: Hi!...\n",
      "agent: How can I help you?...\n",
      "customer: Hi! I need to return an item, can you help me with...\n",
      "Next action: sure, may I have your name please?\n",
      "Flow: product_defect\n"
     ]
    }
   ],
   "source": [
    "print(\"\\nExtracting action tracking data...\")\n",
    "action_data = loader.get_action_tracking_data()\n",
    "print(f\"Total number of examples: {len(action_data)}\")\n",
    "print(\"\\nSample of action tracking data:\")\n",
    "for item in action_data[:3]:\n",
    "    print(\"\\nContext:\")\n",
    "    for turn in item['context']:\n",
    "        print(f\"{turn[0]}: {turn[1][:50]}...\")\n",
    "    print(f\"Next action: {item['next_action']}\")\n",
    "    print(f\"Flow: {item['flow']}\")"
   ]
  },
  {
   "cell_type": "markdown",
   "id": "3aa73dfe",
   "metadata": {},
   "source": [
    "# Initialize preprocessor"
   ]
  },
  {
   "cell_type": "code",
   "execution_count": 10,
   "id": "0efee70e",
   "metadata": {},
   "outputs": [
    {
     "name": "stdout",
     "output_type": "stream",
     "text": [
      "\n",
      "Initializing preprocessor...\n"
     ]
    }
   ],
   "source": [
    "print(\"\\nInitializing preprocessor...\")\n",
    "preprocessor = ABCDPreprocessor()"
   ]
  },
  {
   "cell_type": "markdown",
   "id": "e0106106",
   "metadata": {},
   "source": [
    "# Process intent data"
   ]
  },
  {
   "cell_type": "code",
   "execution_count": 11,
   "id": "2915bae6",
   "metadata": {},
   "outputs": [
    {
     "name": "stdout",
     "output_type": "stream",
     "text": [
      "\n",
      "Processing intent classification data...\n",
      "Number of processed examples: 10042\n",
      "\n",
      "Sample of processed intent data:\n",
      "\n",
      "Original text: Hi! I need to return an item, can you help me with that?...\n",
      "Processed text: hi! i need to return an item, can you help me with that?...\n",
      "Label: product_defect\n",
      "\n",
      "Original text: just wanted to check on the status of a refund...\n",
      "Processed text: just wanted to check on the status of a refund...\n",
      "Label: product_defect\n",
      "\n",
      "Original text: HEY HO!...\n",
      "Processed text: hey ho!...\n",
      "Label: storewide_query\n"
     ]
    }
   ],
   "source": [
    "print(\"\\nProcessing intent classification data...\")\n",
    "processed_intent_data = preprocessor.prepare_intent_data(intent_data)\n",
    "print(f\"Number of processed examples: {len(processed_intent_data['texts'])}\")\n",
    "print(\"\\nSample of processed intent data:\")\n",
    "for i in range(3):\n",
    "    print(f\"\\nOriginal text: {intent_data[i][0][:100]}...\")\n",
    "    print(f\"Processed text: {processed_intent_data['texts'][i][:100]}...\")\n",
    "    print(f\"Label: {processed_intent_data['labels'][i]}\")"
   ]
  },
  {
   "cell_type": "markdown",
   "id": "b162bf06",
   "metadata": {},
   "source": [
    "# Process action data"
   ]
  },
  {
   "cell_type": "code",
   "execution_count": 12,
   "id": "5b0f9a1e",
   "metadata": {},
   "outputs": [
    {
     "name": "stdout",
     "output_type": "stream",
     "text": [
      "\n",
      "Processing action tracking data...\n",
      "Number of processed examples: 95129\n",
      "\n",
      "Sample of processed action data:\n",
      "\n",
      "Processed context: ...\n",
      "Action: Hi!\n",
      "Flow: product_defect\n",
      "\n",
      "Processed context: agent: hi!...\n",
      "Action: How can I help you?\n",
      "Flow: product_defect\n",
      "\n",
      "Processed context: agent: hi! agent: how can i help you? customer: hi! i need to return an item, can you help me with t...\n",
      "Action: sure, may I have your name please?\n",
      "Flow: product_defect\n"
     ]
    }
   ],
   "source": [
    "print(\"\\nProcessing action tracking data...\")\n",
    "processed_action_data = preprocessor.prepare_action_data(action_data)\n",
    "print(f\"Number of processed examples: {len(processed_action_data['contexts'])}\")\n",
    "print(\"\\nSample of processed action data:\")\n",
    "for i in range(3):\n",
    "    print(f\"\\nProcessed context: {processed_action_data['contexts'][i][:100]}...\")\n",
    "    print(f\"Action: {processed_action_data['actions'][i]}\")\n",
    "    print(f\"Flow: {processed_action_data['flows'][i]}\")"
   ]
  },
  {
   "cell_type": "markdown",
   "id": "7be69e24",
   "metadata": {},
   "source": [
    "# Analyze processed data"
   ]
  },
  {
   "cell_type": "code",
   "execution_count": 13,
   "id": "ace0f1ef",
   "metadata": {},
   "outputs": [
    {
     "name": "stdout",
     "output_type": "stream",
     "text": [
      "\n",
      "Analyzing processed data...\n"
     ]
    }
   ],
   "source": [
    "print(\"\\nAnalyzing processed data...\")"
   ]
  },
  {
   "cell_type": "markdown",
   "id": "4bd2a137",
   "metadata": {},
   "source": [
    "# Intent distribution"
   ]
  },
  {
   "cell_type": "code",
   "execution_count": 14,
   "id": "754cff27",
   "metadata": {},
   "outputs": [
    {
     "name": "stdout",
     "output_type": "stream",
     "text": [
      "\n",
      "Intent distribution:\n",
      "Top 10 most common intents:\n",
      "storewide_query: 1094\n",
      "purchase_dispute: 1076\n",
      "product_defect: 1070\n",
      "account_access: 1048\n",
      "single_item_query: 1045\n",
      "order_issue: 1040\n",
      "troubleshoot_site: 1026\n",
      "shipping_issue: 1020\n",
      "subscription_inquiry: 910\n",
      "manage_account: 713\n"
     ]
    }
   ],
   "source": [
    "intent_counts = Counter(processed_intent_data['labels'])\n",
    "print(\"\\nIntent distribution:\")\n",
    "print(\"Top 10 most common intents:\")\n",
    "for intent, count in intent_counts.most_common(10):\n",
    "    print(f\"{intent}: {count}\")"
   ]
  },
  {
   "cell_type": "markdown",
   "id": "1ea4e763",
   "metadata": {},
   "source": [
    "# Visualize intent distribution"
   ]
  },
  {
   "cell_type": "code",
   "execution_count": 15,
   "id": "cb7f378d",
   "metadata": {},
   "outputs": [
    {
     "data": {
      "image/png": "[encoded data removed]",
      "text/plain": [
       "<Figure size 1200x600 with 1 Axes>"
      ]
     },
     "metadata": {},
     "output_type": "display_data"
    }
   ],
   "source": [
    "plt.figure(figsize=(12, 6))\n",
    "pd.Series(processed_intent_data['labels']).value_counts().head(10).plot(kind='bar')\n",
    "plt.title('Distribution of Top 10 Intents')\n",
    "plt.xlabel('Intent')\n",
    "plt.ylabel('Count')\n",
    "plt.xticks(rotation=45)\n",
    "plt.tight_layout()\n",
    "plt.show()"
   ]
  },
  {
   "cell_type": "markdown",
   "id": "304c499f",
   "metadata": {},
   "source": [
    "# Text length distribution"
   ]
  },
  {
   "cell_type": "code",
   "execution_count": 16,
   "id": "ef6b1a3e",
   "metadata": {},
   "outputs": [
    {
     "data": {
      "image/png": "[encoded data removed]",
      "text/plain": [
       "<Figure size 1000x500 with 1 Axes>"
      ]
     },
     "metadata": {},
     "output_type": "display_data"
    }
   ],
   "source": [
    "text_lengths = [len(text.split()) for text in processed_intent_data['texts']]\n",
    "plt.figure(figsize=(10, 5))\n",
    "plt.hist(text_lengths, bins=50)\n",
    "plt.title('Distribution of Text Lengths')\n",
    "plt.xlabel('Number of Words')\n",
    "plt.ylabel('Count')\n",
    "plt.tight_layout()\n",
    "plt.show()"
   ]
  },
  {
   "cell_type": "markdown",
   "id": "16661e8d",
   "metadata": {},
   "source": [
    "# Create DataFrames"
   ]
  },
  {
   "cell_type": "code",
   "execution_count": 18,
   "id": "5128781b",
   "metadata": {},
   "outputs": [],
   "source": [
    "intent_df = pd.DataFrame({\n",
    "    'text': processed_intent_data['texts'],\n",
    "    'intent': processed_intent_data['labels']\n",
    "})\n",
    "\n",
    "action_df = pd.DataFrame({\n",
    "    'context': processed_action_data['contexts'],\n",
    "    'action': processed_action_data['actions'],\n",
    "    'flow': processed_action_data['flows']\n",
    "})"
   ]
  },
  {
   "cell_type": "markdown",
   "id": "cc74b6a4",
   "metadata": {},
   "source": [
    "# Split intent data"
   ]
  },
  {
   "cell_type": "code",
   "execution_count": 19,
   "id": "0ac54bd6",
   "metadata": {},
   "outputs": [
    {
     "name": "stdout",
     "output_type": "stream",
     "text": [
      "\n",
      "Intent Classification Data Split Sizes:\n",
      "Training: 7029\n",
      "Validation: 1506\n",
      "Test: 1507\n"
     ]
    }
   ],
   "source": [
    "train_intent, temp_intent = train_test_split(intent_df, test_size=0.3, stratify=intent_df['intent'], random_state=42)\n",
    "val_intent, test_intent = train_test_split(temp_intent, test_size=0.5, stratify=temp_intent['intent'], random_state=42)\n",
    "\n",
    "print(\"\\nIntent Classification Data Split Sizes:\")\n",
    "print(f\"Training: {len(train_intent)}\")\n",
    "print(f\"Validation: {len(val_intent)}\")\n",
    "print(f\"Test: {len(test_intent)}\")"
   ]
  },
  {
   "cell_type": "markdown",
   "id": "859bd7e4",
   "metadata": {},
   "source": [
    "# Split action data"
   ]
  },
  {
   "cell_type": "code",
   "execution_count": 20,
   "id": "842e2208",
   "metadata": {},
   "outputs": [
    {
     "name": "stdout",
     "output_type": "stream",
     "text": [
      "\n",
      "Action Tracking Data Split Sizes:\n",
      "Training: 66590\n",
      "Validation: 14269\n",
      "Test: 14270\n"
     ]
    }
   ],
   "source": [
    "train_action, temp_action = train_test_split(action_df, test_size=0.3, stratify=action_df['flow'], random_state=42)\n",
    "val_action, test_action = train_test_split(temp_action, test_size=0.5, stratify=temp_action['flow'], random_state=42)\n",
    "\n",
    "print(\"\\nAction Tracking Data Split Sizes:\")\n",
    "print(f\"Training: {len(train_action)}\")\n",
    "print(f\"Validation: {len(val_action)}\")\n",
    "print(f\"Test: {len(test_action)}\")"
   ]
  },
  {
   "cell_type": "markdown",
   "id": "0c8def57",
   "metadata": {},
   "source": [
    "# Save the processed data"
   ]
  },
  {
   "cell_type": "code",
   "execution_count": 22,
   "id": "53207ecc",
   "metadata": {},
   "outputs": [
    {
     "name": "stdout",
     "output_type": "stream",
     "text": [
      "\n",
      "Saving processed data...\n",
      "\n",
      "Data processing complete!\n"
     ]
    }
   ],
   "source": [
    "print(\"\\nSaving processed data...\")\n",
    "train_intent.to_csv('../data/processed/intent_train.csv', index=False)\n",
    "val_intent.to_csv('../data/processed/intent_val.csv', index=False)\n",
    "test_intent.to_csv('../data/processed/intent_test.csv', index=False)\n",
    "\n",
    "train_action.to_csv('../data/processed/action_train.csv', index=False)\n",
    "val_action.to_csv('../data/processed/action_val.csv', index=False)\n",
    "test_action.to_csv('../data/processed/action_test.csv', index=False)\n",
    "\n",
    "print(\"\\nData processing complete!\")"
   ]
  }
 ],
 "metadata": {
  "kernelspec": {
   "display_name": ".env1",
   "language": "python",
   "name": "python3"
  },
  "language_info": {
   "codemirror_mode": {
    "name": "ipython",
    "version": 3
   },
   "file_extension": ".py",
   "mimetype": "text/x-python",
   "name": "python",
   "nbconvert_exporter": "python",
   "pygments_lexer": "ipython3",
   "version": "3.13.3"
  }
 },
 "nbformat": 4,
 "nbformat_minor": 5
}
