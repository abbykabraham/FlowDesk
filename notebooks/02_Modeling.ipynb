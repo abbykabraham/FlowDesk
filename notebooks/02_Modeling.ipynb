{
 "cells": [
  {
   "cell_type": "markdown",
   "id": "9ffae2b1",
   "metadata": {},
   "source": [
    "# Imports"
   ]
  },
  {
   "cell_type": "code",
   "execution_count": null,
   "id": "978bbb7c",
   "metadata": {
    "vscode": {
     "languageId": "plaintext"
    }
   },
   "outputs": [],
   "source": [
    "import sys\n",
    "sys.path.append('..')  # Add parent directory to path\n",
    "from src.data_loader import ABCDDataLoader\n",
    "from src.preprocess import ABCDPreprocessor"
   ]
  },
  {
   "cell_type": "markdown",
   "id": "8cce5f4d",
   "metadata": {},
   "source": [
    "# Load data"
   ]
  },
  {
   "cell_type": "code",
   "execution_count": null,
   "id": "4726bc19",
   "metadata": {
    "vscode": {
     "languageId": "plaintext"
    }
   },
   "outputs": [],
   "source": [
    "loader = ABCDDataLoader('data')\n",
    "loader.load_all()"
   ]
  },
  {
   "cell_type": "markdown",
   "id": "a6a6f010",
   "metadata": {},
   "source": [
    "# Get intent classification data"
   ]
  },
  {
   "cell_type": "code",
   "execution_count": null,
   "id": "13a8c901",
   "metadata": {
    "vscode": {
     "languageId": "plaintext"
    }
   },
   "outputs": [],
   "source": [
    "intent_data = loader.get_intent_classification_data()"
   ]
  },
  {
   "cell_type": "markdown",
   "id": "49b68d84",
   "metadata": {},
   "source": [
    "# Preprocess data"
   ]
  },
  {
   "cell_type": "code",
   "execution_count": null,
   "id": "5b48246c",
   "metadata": {
    "vscode": {
     "languageId": "plaintext"
    }
   },
   "outputs": [],
   "source": [
    "preprocessor = ABCDPreprocessor()\n",
    "processed_data = preprocessor.prepare_intent_data(intent_data)"
   ]
  },
  {
   "cell_type": "markdown",
   "id": "b2ba63c6",
   "metadata": {},
   "source": [
    "# Split into train/val/test"
   ]
  },
  {
   "cell_type": "code",
   "execution_count": null,
   "id": "c974d42f",
   "metadata": {
    "vscode": {
     "languageId": "plaintext"
    }
   },
   "outputs": [],
   "source": [
    "# TODO: Implement data splitting and start building the intent classifier"
   ]
  }
 ],
 "metadata": {
  "language_info": {
   "name": "python"
  }
 },
 "nbformat": 4,
 "nbformat_minor": 5
}
